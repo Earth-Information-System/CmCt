{
 "cells": [
  {
   "cell_type": "markdown",
   "metadata": {},
   "source": [
    "# Cryosphere model Comparison tool (CmCt) GRACE Mascon Gravimetry Tool"
   ]
  },
  {
   "cell_type": "markdown",
   "metadata": {},
   "source": [
    "## Mascon dataset description"
   ]
  },
  {
   "cell_type": "markdown",
   "metadata": {},
   "source": [
    "The CmCt GRACE mascon tool compares user uploaded ice sheet model to GRACE mascon data derived from the GRACE satellite.\n",
    "\n",
    "The CmCt processes the model to create the same mascon space as the NASA GSFC GRACE mascon product, therefore bringing the ice sheet model and GRACE data to the same spatial resolution for comparison. After the interpolation to the same mascon space has been achieved, the ice sheet model is averaged over within the mascon space to provide a direct qualitative comparison."
   ]
  },
  {
   "cell_type": "markdown",
   "metadata": {},
   "source": [
    "For comparison to the user's model, the tool currently uses the `gsfc.glb_.200204_202312_rl06v2.0_obp-ice6gd` GRACE mascon product from Apr 2003 to Dec 2023 that can be requested [here](https://earth.gsfc.nasa.gov/geo/data/grace-mascons). This dataset is available upon request. In addition, for plotting coastlines, this tool uses data that can be downloaded from [here](https://www.naturalearthdata.com/downloads/10m-physical-vectors/10m-coastline/)"
   ]
  },
  {
   "cell_type": "markdown",
   "metadata": {},
   "source": [
    "## Input data requirements"
   ]
  },
  {
   "cell_type": "markdown",
   "metadata": {},
   "source": [
    "The input ice sheet model should be saved as a netCDF file. There are several requirements for the comparison:\n",
    "\n",
    "### `Lithk` variable\n",
    "\n",
    "The CmCt Grace Mascon tool expects the uploaded model to contain thickness data (the `lithk` variable) for the comparison (should be in units of meters). See Coordinate System and Date Range sections for options on what dimensions this variable should have.\n",
    "\n",
    "### Coordinate System\n",
    "%There are three coordinate systems which can be interpretted by the CmCt, indicate which one is appropriate with the \"coord_sys\" input\n",
    "%#### Rectangular Polar-Stereographic (rect_pol_st)\n",
    "\n",
    "Coordinates are defined on a rectangular X-Y grid in the ISMIP6 standard projected polar-stereographic space. The ISMIP6 standard projection is defined [here](https://theghub.org/groups/ismip6/wiki/MainPage). This means that in the model netCDF4 file, there are variables x and y such that x has dimensions (x,) and length A and y has dimensions (y,) and length B. In addition, the lithk variable must have dimensions (time, y, x,) and shape (_, A, B).\n",
    "\n",
    "%#### Polar Stereographic (pol_st)\n",
    "\n",
    "%Coordinates are defined according to ISMIP6 standard projected polar-stereographic space. The ISMIP6 standard projection is defined [here](https://theghub.org/groups/ismip6/wiki/MainPage). This means that in the model netCDF4 file, there is a dimension called \"position\". There are variables x and y which both have dimensions (position,) and length C. In addition, the lithk variable must have dimensions (time, position,) and shape (_, C,). This differs from rectangular polar stereographic in that the lithk variable does not have to be defined on a rectangle in polar-stereographic space\n",
    "\n",
    "%#### Latitude Longitude (lat_lon)\n",
    "\n",
    "%Coordinates are defined according to ISMIP6 standard projected polar-stereographic space. The ISMIP6 standard projection is defined [here](https://theghub.org/groups/ismip6/wiki/MainPage). This means that in the model netCDF4 file, there is a dimension called \"position\". There are variables latitude and longitude which both have dimensions (position,) and length C. In addition, the lithk variable must have dimensions (time, position,) and shape (_, C,)\n",
    "\n",
    "### Time variable\n",
    "\n",
    "The model file must include a time variable whose entries are in units of days since 01-01-1970. This variable must have at least two entries. The user will input a start_date and end_date, and the start_date may not be before Apr 2002 (when GRACE data starts) or before the first entry of the time variable of the model file. Likewise, the end_date may not be after Dec 2023 (when GRACE data ends) or after the last entry of the time variable of the model file."
   ]
  },
  {
   "cell_type": "markdown",
   "metadata": {},
   "source": [
    "## Using this tool"
   ]
  },
  {
   "cell_type": "markdown",
   "metadata": {},
   "source": [
    "This tool runs in Jupyter Appmode. The user interface buttons enable upload, plotting, and download.\n",
    "\n",
    "1. Download the example output, if desired, using the Download Example button.\n",
    "1. Upload model data for comparison using the Upload File button.\n",
    "1. Plot GRACE Mascon and Ice Sheet Model Comparison using the Plot Data button.\n",
    "1. Download the results using the Download Plot button."
   ]
  },
  {
   "cell_type": "markdown",
   "metadata": {},
   "source": [
    "The tool first processes the NASA GSFC GRACE product and specifies the mascon space. Then averages over the observational data within the specified mascon space. The CmCt takes the uploaded ice sheet model and converts it to the same mascon space as the observational data. Once the data is in the mascon space it averages over the data within the same space, then plots the comparison side by side."
   ]
  },
  {
   "cell_type": "markdown",
   "metadata": {},
   "source": [
    "### Future enhancements\n",
    "\n",
    "+ A drop-down box will be provided for users to select the start and end date range for the comparison. \n",
    " \n",
    "+ Data from the GRACE-FO (GRACE Follow-On) mission will be added, to support the full time range from 2003 to 2021. "
   ]
  },
  {
   "cell_type": "markdown",
   "metadata": {},
   "source": [
    "## Tool Output"
   ]
  },
  {
   "cell_type": "markdown",
   "metadata": {},
   "source": [
    "The CmCt creates the GRACE mascon plot and the model mascon plot so the user can  qualitatively compare the model output with the observational data. The plots can be easily downloaded with the Download Plot tab. "
   ]
  },
  {
   "cell_type": "markdown",
   "metadata": {},
   "source": [
    "# Import Modules"
   ]
  },
  {
   "cell_type": "code",
   "execution_count": 1,
   "metadata": {
    "code_folding": []
   },
   "outputs": [],
   "source": [
    "# set geospatial python3 kernel to provide needed packages\n",
    "import os,sys\n",
    "import glob as glob\n",
    "import numpy as np\n",
    "import h5py\n",
    "import mascons\n",
    "import xarray as xr\n",
    "import glob as glob\n",
    "import time\n",
    "\n",
    "import cartopy\n",
    "import cartopy.crs as ccrs\n",
    "import cartopy.io.shapereader as shpreader\n",
    "\n",
    "import matplotlib.pyplot as plt\n",
    "from matplotlib import rc\n",
    "rc('mathtext', default='regular')\n",
    "\n",
    "sys.path.insert(0, os.path.abspath('..'))\n",
    "\n",
    "import ipywidgets as widgets\n",
    "from IPython.display import display,clear_output,HTML\n",
    "import PIL.Image # Python Image Library\n",
    "\n",
    "# note: suppress numpy.dtype size changed warnings\n",
    "import warnings\n",
    "warnings.filterwarnings(\"ignore\", message=\"numpy.dtype size changed\")\n",
    "\n",
    "warnings.filterwarnings('ignore')"
   ]
  },
  {
   "cell_type": "markdown",
   "metadata": {},
   "source": [
    "# Enter Inputs"
   ]
  },
  {
   "cell_type": "code",
   "execution_count": 2,
   "metadata": {},
   "outputs": [],
   "source": [
    "##### Model data #####\n",
    "#Data dir and filename in which the model can be found\n",
    "Datadir =os.path.expanduser('/home/jovyan/CmCt/notebooks/Gravimetry/model_files/')\n",
    "model_file = \"lithk_reduces_by_0.6m_2012_to_2013.nc\"\n",
    "\n",
    "##### Start and End Dates #####\n",
    "start_date = '2012-01-01' # 'YYYY-MM-DD'\n",
    "end_date = '2013-01-01' # 'YYYY-MM-DD'\n",
    "\n",
    "##### Plotting #####\n",
    "# If true, plots the GRACE Mascon data, model prediction data, and residual in units of centimeters of water equivalent\n",
    "make_plot = True\n",
    "\n",
    "# If true and make_plot is true, saves the plot to plot_filename\n",
    "save_plot = False\n",
    "\n",
    "# filename for output plot (only used if make_plot=True and save_plot = True)\n",
    "plot_filename = 'output_files/Mascon_comp.png'"
   ]
  },
  {
   "cell_type": "markdown",
   "metadata": {},
   "source": [
    "## Set Polar Sterographic Projection definition:\n",
    "\n",
    "##### Projection can be defined from the loaded model or by setting the definition independent of the model. \n",
    "#Since the CmCt uses a standard projection, it is probably best to use the second method."
   ]
  },
  {
   "cell_type": "code",
   "execution_count": 3,
   "metadata": {
    "code_folding": [
     0
    ]
   },
   "outputs": [],
   "source": [
    "# Method : Set model projection from standard definition\n",
    "polar_stereographic = ccrs.Stereographic(\n",
    "    central_latitude=90.0,\n",
    "    central_longitude=-45.0,\n",
    "    false_easting=0.0,\n",
    "    false_northing=0.0,\n",
    "    true_scale_latitude=70.0,\n",
    "    globe=ccrs.Globe('WGS84')\n",
    ")"
   ]
  },
  {
   "cell_type": "markdown",
   "metadata": {},
   "source": [
    "# Select Parameters and Construct Output File"
   ]
  },
  {
   "cell_type": "code",
   "execution_count": 4,
   "metadata": {},
   "outputs": [
    {
     "data": {
      "application/vnd.jupyter.widget-view+json": {
       "model_id": "68ddc6cd2e84489f8a93717b77f36c76",
       "version_major": 2,
       "version_minor": 0
      },
      "text/plain": [
       "VBox(children=(Text(value='rbasnet', description='Login Name:'),))"
      ]
     },
     "metadata": {},
     "output_type": "display_data"
    },
    {
     "name": "stdout",
     "output_type": "stream",
     "text": [
      "{'loginname_widget': 'rbasnet'}\n"
     ]
    }
   ],
   "source": [
    "from CMCT_gaivimetry_select_data_parameters import *\n",
    "\n",
    "\n",
    "parameters = CMCT_gaivimetry_select_data_parameters()\n",
    "print(parameters)"
   ]
  },
  {
   "cell_type": "code",
   "execution_count": 5,
   "metadata": {},
   "outputs": [
    {
     "name": "stdout",
     "output_type": "stream",
     "text": [
      "/home/jovyan/CmCt/RUNS/rbasnet_20240617T204217/\n",
      "/home/jovyan/CmCt/RUNS/rbasnet_20240617T204217/CMCT_rbasnet_20240617T204217.01.meansdgrids.nc\n"
     ]
    }
   ],
   "source": [
    "from datetime import datetime\n",
    "\n",
    "output_dir = os.path.expanduser('/home/jovyan/CmCt/RUNS/')\n",
    "\n",
    "# Construct run_id using username and current time\n",
    "date = datetime.now().strftime('%Y-%m-%dT%H:%M:%S')\n",
    "date2 = datetime.now().strftime('%Y%m%dT%H%M%S')\n",
    "\n",
    "run_id = parameters['loginname_widget']+ \"_\" + date2\n",
    "# print(run_id)\n",
    "\n",
    "# Create upload dir path\n",
    "output_dir_act = output_dir + run_id + \"/\"\n",
    "print(output_dir_act)\n",
    "\n",
    "#Make upload directory\n",
    "os.mkdir(output_dir_act)\n",
    "\n",
    "output_nc_filename=output_dir_act+'CMCT_'+run_id+'.01.meansdgrids.nc'\n",
    "print(output_nc_filename)\n"
   ]
  },
  {
   "cell_type": "markdown",
   "metadata": {},
   "source": [
    "## Load GRACE and Model Data:"
   ]
  },
  {
   "cell_type": "code",
   "execution_count": 6,
   "metadata": {
    "code_folding": [
     0
    ]
   },
   "outputs": [],
   "source": [
    "def loadGsfcMascons():\n",
    "    t = time.time()\n",
    "    #Load Mascons data\n",
    "    inpath_1 =os.path.expanduser('/home/jovyan/CmCt/notebooks/Gravimetry/mascon_files/')\n",
    "\n",
    "    # Load GSFC mascons\n",
    "    h5_filename = inpath_1 + 'gsfc.glb_.200204_202312_rl06v2.0_obp-ice6gd.h5'\n",
    "\n",
    "    try:\n",
    "        gsfc = mascons.load_gsfc_solution(h5_filename, lon_wrap='pm180')\n",
    "    except:\n",
    "        print('Error: Failed to load GSFC mascons.')\n",
    "    print(\"Loading MASCONS data: \" + str(time.time() - t) + \" seconds\")  #TEMPORARY\n",
    "    return gsfc"
   ]
  },
  {
   "cell_type": "code",
   "execution_count": 7,
   "metadata": {},
   "outputs": [],
   "source": [
    "# Load user's uploaded model data\n",
    "def loadGisModel(nc_filename):\n",
    "    t = time.time()\n",
    "    \n",
    "    # Load GIS model into an Xarray\n",
    "    try:\n",
    "        gis_ds = xr.open_dataset(nc_filename, autoclose=True, engine='netcdf4')\n",
    "    except:\n",
    "        print('Error: Failed to open model data; unexpected format found. Terminating calculation.')\n",
    "\n",
    "        \n",
    "    # check for the lithk variable\n",
    "    try:\n",
    "        lithk = gis_ds['lithk']\n",
    "    except:\n",
    "        print('Error: lithk variable expected but not found in model. Terminating calculation.')\n",
    "\n",
    "    print(\"Loading model data: \" + str(time.time() - t) + \" seconds\")  #TEMPORARY\n",
    "    return gis_ds"
   ]
  },
  {
   "cell_type": "markdown",
   "metadata": {},
   "source": [
    "# GRACE Mascon Mean Computation"
   ]
  },
  {
   "cell_type": "code",
   "execution_count": 8,
   "metadata": {
    "code_folding": []
   },
   "outputs": [],
   "source": [
    "# Compute mascon means\n",
    "def computeMasconMeans(gsfc):\n",
    "    t = time.time()\n",
    "    \n",
    "    global lat_centers\n",
    "    global lon_centers\n",
    "    global max_lons\n",
    "    global min_lons\n",
    "    global min_lats\n",
    "    global max_lats\n",
    "    global min_mscns\n",
    "    global max_mscns\n",
    "    global diverging_max\n",
    "    global diverging_min\n",
    "    global I_\n",
    "\n",
    "    # Select only GIS mascons\n",
    "    I_ = gsfc.locations == 1\n",
    "\n",
    "    try:\n",
    "        cmwe_delta = mascons.calc_mascon_delta_cmwe(gsfc, start_date, end_date, I_)\n",
    "        if cmwe_delta is None:   # Error already printed in line above\n",
    "            return None\n",
    "    except:\n",
    "        with output_widget:\n",
    "            print('Error: Failed to calculate mascon delta. Terminating calculation.')\n",
    "        return None\n",
    "        \n",
    "    cmwe_delta = cmwe_delta[I_]\n",
    "    lat_centers = gsfc.lat_centers[I_]\n",
    "    lon_centers = gsfc.lon_centers[I_]\n",
    "    min_lons = gsfc.min_lons[I_]\n",
    "    max_lons = gsfc.max_lons[I_]\n",
    "    min_lats = gsfc.min_lats[I_]\n",
    "    max_lats = gsfc.max_lats[I_]\n",
    "\n",
    "    min_mscns = np.min(cmwe_delta)\n",
    "    max_mscns = np.max(cmwe_delta)\n",
    "\n",
    "    diverging_max = np.max([np.abs(min_mscns), np.abs(max_mscns)])\n",
    "    diverging_min = -diverging_max\n",
    "\n",
    "    print(\"Computing MASCON Means: \" + str(time.time() - t) + \" seconds\")   #TEMPORARY\n",
    "    return cmwe_delta"
   ]
  },
  {
   "cell_type": "markdown",
   "metadata": {},
   "source": [
    "## Ice Sheet Model Mascon Mean Computation "
   ]
  },
  {
   "cell_type": "code",
   "execution_count": 9,
   "metadata": {},
   "outputs": [],
   "source": [
    "def transformToGeodetic(gsfc, gis_ds):\n",
    "    \n",
    "    # Put model into mascon space:\n",
    "\n",
    "    # To compare with GRACE mascons, we need to compute lat/lon coordinates \n",
    "    # for the grid locations and average them into the GSFC mascon boundaries.\n",
    "\n",
    "    # First, we must transform from the original polar stereographic projection \n",
    "    # into a geodetic lat/lon coordinate system. We plot the result of \n",
    "    # this transformation to verify that the transformation was successful.\n",
    "\n",
    "    # Then, we spatially average the data into mascon space and once more plot our result.\n",
    "\n",
    "    # TODO: evaluate whether this transform has failed and return appropriate error\n",
    "    \n",
    "    t = time.time()\n",
    "    \n",
    "    # fetch the lithk variable from the model data structure\n",
    "    lithk = gis_ds['lithk']    # type: xarray.core.dataarray.DataArray\n",
    "    \n",
    "    # Transform projection to lat/lon\n",
    "    geodetic = ccrs.Geodetic(globe=ccrs.Globe('WGS84'))\n",
    "\n",
    "    yv, xv = np.meshgrid(gis_ds.y.data, gis_ds.x.data)   # x and y information in polar stereographic\n",
    "\n",
    "    ll = geodetic.transform_points(src_crs=polar_stereographic, x=xv.flatten(), y=yv.flatten())\n",
    "    lons = ll[:,0]\n",
    "    lats = ll[:,1]\n",
    "\n",
    "    lithk_delta = subtractLithkFromStartToEndDate(lithk, start_date, end_date)\n",
    "    if lithk_delta is None:\n",
    "        return None\n",
    "    \n",
    "    # Mascon-average lithk from GIS\n",
    "    lithk_delta[np.isnan(lithk_delta)] = 0\n",
    "    lithk_mascons = mascons.points_to_mascons(gsfc, I_, lats, lons, lithk_delta)\n",
    "    \n",
    "    # Ice thickness (m) to cm water equivalent:\n",
    "    rho_ice = 934 # kg/m^3\n",
    "    rho_water = 1000 # kg/m^3\n",
    "    mscns_trim = lithk_mascons * rho_ice / rho_water * 100\n",
    "\n",
    "    print(\"Transforming model data to MASCONS space: \" + str(time.time() - t) + \" seconds\") #TEMPORARY\n",
    "    return mscns_trim"
   ]
  },
  {
   "cell_type": "code",
   "execution_count": 10,
   "metadata": {},
   "outputs": [],
   "source": [
    "def subtractLithkFromStartToEndDate(lithk, start_date, end_date):\n",
    "    \n",
    "    # Convert time variable (which should be in units of days since 01-01-1970) to np.datetime64 before interpolation\n",
    "    time64 = np.array(lithk.time.data, \"datetime64[D]\")\n",
    "\n",
    "    # Check that start date is not before data is collected\n",
    "    if (((np.datetime64(start_date) - time64[0]) / np.timedelta64(1, 's')) < 0):\n",
    "        print(f\"Error: Inputted start_date ({start_date}) is before first date in model data ({time64[0]})\")\n",
    "        return None\n",
    "\n",
    "    # Check that end date is not after data is collected\n",
    "    if (((time64[-1] - np.datetime64(end_date)) / np.timedelta64(1, 's')) < 0):\n",
    "        print(f\"Error: Inputted end_date ({end_date}) is after last date in model data ({time64[-1]})\")\n",
    "        return None\n",
    "    \n",
    "    # Set time coordinate to this new np.datetime64 array\n",
    "    lithk64 = lithk.assign_coords({\"time\" : time64})\n",
    "\n",
    "    # Interpolate lithk value for start and end dates\n",
    "    lithk_start = lithk64.interp(time=start_date).data.transpose().flatten()\n",
    "    lithk_end = lithk64.interp(time=end_date).data.transpose().flatten()\n",
    "\n",
    "    # Compute estimated change in ice thickness between start and end dates\n",
    "    lithk_delta = lithk_end - lithk_start\n",
    "    return lithk_delta"
   ]
  },
  {
   "cell_type": "code",
   "execution_count": 11,
   "metadata": {},
   "outputs": [],
   "source": [
    "def plotFigure(cmwe_delta, mscns_trim,cmwe_diff, gsfc, I_):\n",
    "    t = time.time()\n",
    "\n",
    "    plt.figure(figsize=(24,14)) #, dpi=300)\n",
    "\n",
    "    # Observed\n",
    "    ax1 = plt.subplot(131, projection=polar_stereographic)\n",
    "    ax1.set_extent([-65, -20, 57, 84]) # Map bounds, [west, east, south, north]\n",
    "    sc = ax1.scatter(lon_centers, lat_centers, 1, c=cmwe_delta, zorder=0, transform=ccrs.PlateCarree(),\n",
    "                     cmap=plt.cm.RdBu, vmin=diverging_min, vmax=diverging_max)\n",
    "\n",
    "    normal = plt.Normalize(diverging_min, diverging_max)\n",
    "    cmap = plt.cm.RdBu(normal(cmwe_delta))\n",
    "\n",
    "    N_ints = 10\n",
    "    for i in range(len(mscns_trim)):\n",
    "        x = np.append(np.linspace(min_lons[i], max_lons[i], N_ints), np.linspace(max_lons[i], min_lons[i], N_ints))\n",
    "        y = np.append(min_lats[i]*np.ones(N_ints), max_lats[i]*np.ones(N_ints))\n",
    "        ax1.fill(x, y, facecolor=cmap[i][:], edgecolor='none', zorder=5, transform=ccrs.PlateCarree())\n",
    "    \n",
    "    c = plt.colorbar(sc, orientation='horizontal', ax=ax1, pad=0.04) #, fraction=0.046)\n",
    "    c.set_label('cm water eq.', size=14)\n",
    "    c.ax.tick_params(labelsize=12)\n",
    "\n",
    "    ax1.add_geometries(list(shpreader.Reader(os.path.expanduser('/home/jovyan/CmCt/datasets/ne_10m_coastline/ne_10m_coastline.shp')).geometries()), \\\n",
    "       ccrs.PlateCarree(), edgecolor='black', facecolor='none')\n",
    "    # download coastline here: https://www.naturalearthdata.com/downloads/10m-physical-vectors/10m-coastline/\n",
    "\n",
    "    # Add coastlines on top\n",
    "    ax1.coastlines(resolution='10m', zorder=10, linewidth=0.5)    \n",
    "    # Add gridlines\n",
    "    ax1.gridlines(zorder=5, linestyle=':', linewidth=0.5)\n",
    "\n",
    "    ax1.set_title('Observed mass change\\n({0} to {1})'.format(start_date, end_date), size=14)\n",
    "\n",
    "    sc.remove()\n",
    "\n",
    "\n",
    "    # Modeled\n",
    "    ax2 = plt.subplot(132, projection=polar_stereographic)\n",
    "    ax2.set_extent([-65, -20, 57, 84]) # Map bounds, [west, east, south, north]\n",
    "\n",
    "    sc = ax2.scatter(gsfc.lon_centers[I_], gsfc.lat_centers[I_], 1, c=mscns_trim, zorder=0,\n",
    "                     transform=ccrs.PlateCarree(), cmap=plt.cm.RdBu, vmin=diverging_min, vmax=diverging_max)\n",
    "\n",
    "    normal = plt.Normalize(diverging_min, diverging_max)\n",
    "    cmap = plt.cm.RdBu(normal(mscns_trim))\n",
    "\n",
    "    N_ints = 10\n",
    "    for i in range(len(mscns_trim)):\n",
    "        x = np.append(np.linspace(min_lons[i], max_lons[i], N_ints), np.linspace(max_lons[i], min_lons[i], N_ints))\n",
    "        y = np.append(min_lats[i]*np.ones(N_ints), max_lats[i]*np.ones(N_ints))\n",
    "        ax2.fill(x, y, facecolor=cmap[i][:], edgecolor='none', zorder=5, transform=ccrs.PlateCarree())\n",
    "\n",
    "    c = plt.colorbar(sc, orientation='horizontal', ax=ax2, pad=0.04) #, fraction=0.046)\n",
    "    c.set_label('cm water eq.', size=14)\n",
    "    c.ax.tick_params(labelsize=12)\n",
    "\n",
    "    ax2.add_geometries(list(shpreader.Reader(os.path.expanduser('/home/jovyan/CmCt/datasets/ne_10m_coastline/ne_10m_coastline.shp')).geometries()), \\\n",
    "       ccrs.PlateCarree(), edgecolor='black', facecolor='none')\n",
    "\n",
    "    # Add coastlines on top\n",
    "    ax2.coastlines(resolution='10m', zorder=10, linewidth=0.5)    \n",
    "    # Add gridlines\n",
    "    ax2.gridlines(zorder=5, linestyle=':', linewidth=0.5)\n",
    "\n",
    "    # add model filename to subplot's title\n",
    "    #ax2.set_title('Modeled mass change\\n({0} to {1}\\n{3})'.format(start_date, end_date, file_name[1]), size=14)\n",
    "    model_filename = str.split(file_name, '/')[1]\n",
    "    ax2.set_title('Modeled mass change\\n({0} to {1})'.format(start_date, end_date), size=14)\n",
    "\n",
    "    sc.remove()\n",
    "    \n",
    "    # add some explanatory information\n",
    "    plt.suptitle('Grace Mascon Comparison Plots', fontsize=25)\n",
    "    plt.subplots_adjust(top=0.83)\n",
    "\n",
    "\n",
    "    # Obeserved-Modeled\n",
    "    ax3 = plt.subplot(133, projection=polar_stereographic)\n",
    "    ax3.set_extent([-65, -20, 57, 84]) # Map bounds, [west, east, south, north]\n",
    "\n",
    "    sc = ax3.scatter(lon_centers, lat_centers, 1, c=cmwe_diff, zorder=0, transform=ccrs.PlateCarree(),\n",
    "                     cmap=plt.cm.RdBu, vmin=diverging_min, vmax=diverging_max)    \n",
    "    \n",
    "    normal = plt.Normalize(diverging_min, diverging_max)\n",
    "    cmap = plt.cm.RdBu(normal(cmwe_diff))\n",
    "\n",
    "    N_ints = 10\n",
    "    for i in range(len(mscns_trim)):\n",
    "        x = np.append(np.linspace(min_lons[i], max_lons[i], N_ints), np.linspace(max_lons[i], min_lons[i], N_ints))\n",
    "        y = np.append(min_lats[i]*np.ones(N_ints), max_lats[i]*np.ones(N_ints))\n",
    "        ax3.fill(x, y, facecolor=cmap[i][:], edgecolor='none', zorder=5, transform=ccrs.PlateCarree())\n",
    "\n",
    "    c = plt.colorbar(sc, orientation='horizontal', ax=ax3, pad=0.04) #, fraction=0.046)\n",
    "    c.set_label('cm water eq.', size=14)\n",
    "    c.ax.tick_params(labelsize=12)\n",
    "\n",
    "    ax3.add_geometries(list(shpreader.Reader(os.path.expanduser('/home/jovyan/CmCt/datasets/ne_10m_coastline/ne_10m_coastline.shp')).geometries()), \\\n",
    "       ccrs.PlateCarree(), edgecolor='black', facecolor='none')\n",
    "\n",
    "    # Add coastlines on top\n",
    "    ax3.coastlines(resolution='10m', zorder=10, linewidth=0.5)    \n",
    "    # Add gridlines\n",
    "    ax3.gridlines(zorder=5, linestyle=':', linewidth=0.5)\n",
    "\n",
    "    # add model filename to subplot's title\n",
    "    model_filename = str.split(file_name, '/')[1]\n",
    "    ax3.set_title('Residual mass change\\n({0} to {1})'.format( start_date, end_date), size=14)\n",
    "\n",
    "    sc.remove()\n",
    "    \n",
    "    # add some explanatory information\n",
    "    plt.suptitle('Grace Mascon Comparison Plots', fontsize=25)\n",
    "    plt.subplots_adjust(top=1.93)#0.83\n",
    "\n",
    "    if save_plot:\n",
    "        t7 = time.time()\n",
    "        plt.savefig(plot_filename)\n",
    "        print(\"Saving figure: \" + str(time.time() - t7))\n",
    "\n",
    "    plt.show()\n",
    "    print(\"Total plotting and saving: \" + str(time.time() - t) + \" seconds\")   #TEMPORARY"
   ]
  },
  {
   "cell_type": "code",
   "execution_count": 12,
   "metadata": {},
   "outputs": [],
   "source": [
    "def write_to_netcdf(cmwe_diff,output_filename):\n",
    "    # Create a DataArray\n",
    "    # data_array = xr.DataArray(cmwe_diff, dims=['x'], coords={'x': np.arange(len(cmwe_diff))})\n",
    "    data_array = xr.DataArray(cmwe_diff, dims=['mascons'], coords={'mascons': np.arange(len(cmwe_diff))})\n",
    "\n",
    "    # Create a Dataset and add the DataArray under the variable name 'cmwe_diff'\n",
    "    ds = xr.Dataset({'cmwe_diff': data_array})\n",
    "\n",
    "    # Write the dataset to a NetCDF file, including it in the 'residue' group\n",
    "    ds.to_netcdf(output_filename, group='residue', mode='w')\n",
    "\n",
    "    print(f'Data written to {output_filename}.')"
   ]
  },
  {
   "cell_type": "markdown",
   "metadata": {},
   "source": [
    "# Plot GRACE Mascon and Ice Sheet Model Comparison"
   ]
  },
  {
   "cell_type": "code",
   "execution_count": 13,
   "metadata": {},
   "outputs": [],
   "source": [
    "# do the computation:\n",
    "# def runProcessing(file = None):\n",
    "def runProcessing(file = None,output_filename=output_nc_filename):    \n",
    "    output_filename\n",
    "\n",
    "    update_progress(0, \"Starting...              \")\n",
    "    \n",
    "    # load mascons \n",
    "    gsfc = loadGsfcMascons()\n",
    "    if gsfc is not None:\n",
    "        update_progress(0.10, \"Loaded GRACE data        \")\n",
    "    else: \n",
    "        return None\n",
    "    \n",
    "    # load user's input model\n",
    "    gis_ds = loadGisModel(file)\n",
    "    if gis_ds is not None:\n",
    "        update_progress(0.20, \"Loaded Model Data        \")\n",
    "    else: \n",
    "        return None\n",
    "    \n",
    "    # compute the mascon means\n",
    "    cmwe_delta = computeMasconMeans(gsfc)\n",
    "    if cmwe_delta is not None:\n",
    "        update_progress(0.30, \"Computed GRACE Delta cmwe\")\n",
    "    else:\n",
    "        return None\n",
    "    \n",
    "    # Put model into mascon space\n",
    "    mscns_trim = transformToGeodetic(gsfc, gis_ds)\n",
    "    \"\"\"\n",
    "    try:\n",
    "         mscns_trim = transformToGeodetic(gsfc, gis_ds)\n",
    "    except:\n",
    "        print('Error: model transform to geodetic failed. Terminating calculation.')\n",
    "        return None\n",
    "    \"\"\"\n",
    "    if mscns_trim is None:\n",
    "        print('Error: model transform to geodetic failed. Terminating calculation.')\n",
    "        return None\n",
    "\n",
    "    update_progress(0.60, \"Computed Model Delta cmwe\") \n",
    "\n",
    "\n",
    "\n",
    "    # calculate and write results as netcdf file\n",
    "    try:\n",
    "        ###########################################################################\n",
    "        ### new variable cmwe_diff to write to nedcdf file as output\n",
    "        cmwe_diff=mscns_trim-cmwe_delta    # All three of these variables are only for the greenland ice sheet\n",
    "    except:\n",
    "        print('Error: Failed to compute residual') \n",
    "        return None\n",
    "    update_progress(0.80, \"Computed Residual        \")\n",
    "\n",
    "    # Save results to NetCDF\n",
    "    try:\n",
    "        write_to_netcdf(cmwe_diff,output_filename)\n",
    "    except Exception as e:\n",
    "        print(f'Error: Failed to write NetCDF file. {e}')\n",
    "        return None\n",
    "\n",
    "    \n",
    "    # Plot results\n",
    "    if make_plot:\n",
    "        try:\n",
    "            # plotFigure(cmwe_delta, mscns_trim, gsfc, I_, lithk_mascons_cmwe)\n",
    "            plotFigure(cmwe_delta, mscns_trim,cmwe_diff, gsfc, I_)\n",
    "        except:\n",
    "            print('Error: plotting failed.')\n",
    "            return None\n",
    "    \n",
    "        \n",
    "    # todo: put in some checks\n",
    "    print(\"Success\")\n",
    "    return 'Success'"
   ]
  },
  {
   "cell_type": "code",
   "execution_count": 14,
   "metadata": {},
   "outputs": [],
   "source": [
    "# update processing progress bar\n",
    "def update_progress(progress, title):\n",
    "    bar_length = 20\n",
    "    block = int(20.0*progress)\n",
    "    text = title+\" [{0}] {1:.1f}%\".format( \"#\" * block + \"-\" * (bar_length - block), progress * 100)\n",
    "    print(text)    "
   ]
  },
  {
   "cell_type": "code",
   "execution_count": 15,
   "metadata": {},
   "outputs": [
    {
     "name": "stdout",
     "output_type": "stream",
     "text": [
      "Total time: 5.459785461425781e-05 seconds\n"
     ]
    }
   ],
   "source": [
    "\n",
    "# Process\n",
    "t_tot = time.time()\n",
    "file_name=Datadir+model_file\n",
    "runProcessing(file_name, output_filename=output_nc_filename)\n",
    "print(\"Total time: \" + str(time.time() - t_tot) + \" seconds\")"
   ]
  },
  {
   "cell_type": "code",
   "execution_count": null,
   "metadata": {},
   "outputs": [],
   "source": []
  }
 ],
 "metadata": {
  "hide_input": false,
  "kernelspec": {
   "display_name": "Python 3 (ipykernel)",
   "language": "python",
   "name": "python3"
  },
  "language_info": {
   "codemirror_mode": {
    "name": "ipython",
    "version": 3
   },
   "file_extension": ".py",
   "mimetype": "text/x-python",
   "name": "python",
   "nbconvert_exporter": "python",
   "pygments_lexer": "ipython3",
   "version": "3.11.9"
  }
 },
 "nbformat": 4,
 "nbformat_minor": 4
}
